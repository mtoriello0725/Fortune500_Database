{
 "cells": [
  {
   "cell_type": "markdown",
   "metadata": {},
   "source": [
    "# Fortune 500 Companies Database"
   ]
  },
  {
   "cell_type": "markdown",
   "metadata": {},
   "source": [
    "### This notebook Transforms the following data into fortune500_db.sqlite\n",
    "- Fortune 500 companies\n",
    "- Fortune 500 stock values\n",
    "\n",
    "Future additions include: \n",
    "- Fortune 500 job postings\n",
    "- Global Exchange Rates"
   ]
  },
  {
   "cell_type": "markdown",
   "metadata": {},
   "source": [
    "## Import necessary libraries:"
   ]
  },
  {
   "cell_type": "code",
   "execution_count": 1,
   "metadata": {},
   "outputs": [],
   "source": [
    "import pandas as pd"
   ]
  },
  {
   "cell_type": "code",
   "execution_count": 2,
   "metadata": {},
   "outputs": [],
   "source": [
    "# Imports the method used for connecting to DBs\n",
    "from sqlalchemy import create_engine\n",
    "\n",
    "# Imports the methods needed to abstract classes into tables\n",
    "from sqlalchemy.ext.declarative import declarative_base\n",
    "\n",
    "# Allow us to declare column types\n",
    "from sqlalchemy import Column, Integer, String, Float\n",
    "\n",
    "# PyMySQL \n",
    "import pymysql\n",
    "pymysql.install_as_MySQLdb()"
   ]
  },
  {
   "cell_type": "markdown",
   "metadata": {},
   "source": [
    "## Create engine and connection to sqlite:"
   ]
  },
  {
   "cell_type": "code",
   "execution_count": 5,
   "metadata": {},
   "outputs": [],
   "source": [
    "engine = create_engine(\"sqlite:///fortune500_db.sqlite\")\n",
    "conn = engine.connect()"
   ]
  },
  {
   "cell_type": "markdown",
   "metadata": {},
   "source": [
    "## Create declarative base and create session to add to database:"
   ]
  },
  {
   "cell_type": "code",
   "execution_count": 6,
   "metadata": {},
   "outputs": [],
   "source": [
    "Base = declarative_base()\n",
    "\n",
    "Base.metadata.create_all(engine)\n",
    "\n",
    "from sqlalchemy.orm import Session\n",
    "session = Session(bind=engine)"
   ]
  },
  {
   "cell_type": "markdown",
   "metadata": {},
   "source": [
    "## Import all csv files into a dataframe:"
   ]
  },
  {
   "cell_type": "markdown",
   "metadata": {},
   "source": [
    "#### Start with fortune 500 comapnies and proceed with others."
   ]
  },
  {
   "cell_type": "code",
   "execution_count": 7,
   "metadata": {},
   "outputs": [],
   "source": [
    "fortune500_path = \"./Data/Fortune_500_list_databahn_2018.csv\"\n",
    "company2tick_path = \"./Data/company_to_tick.csv\"\n",
    "stock_values_path = \"stock_values.csv\""
   ]
  },
  {
   "cell_type": "code",
   "execution_count": 33,
   "metadata": {},
   "outputs": [
    {
     "data": {
      "text/plain": [
       "Index(['Fortune  Rank (2018)', 'Company Name', 'Ticker Symbol',\n",
       "       'Fortune Rank (2017)', 'Revenues', 'Revenues change', 'Profits',\n",
       "       'Profit Change', 'Assets', 'Market Value', 'Employee Count', 'CEO Name',\n",
       "       'CEO Title', 'Sector', 'Industry', 'HQ Location', 'Website URL',\n",
       "       'Years on Fortune List', 'Fortune URL'],\n",
       "      dtype='object')"
      ]
     },
     "execution_count": 33,
     "metadata": {},
     "output_type": "execute_result"
    }
   ],
   "source": [
    "fortune500_df = pd.read_csv(fortune500_path, encoding = \"ISO-8859-1\")\n",
    "fortune500_df.columns"
   ]
  },
  {
   "cell_type": "markdown",
   "metadata": {},
   "source": [
    "## Edit column headers to be friendlier to SQL."
   ]
  },
  {
   "cell_type": "code",
   "execution_count": 36,
   "metadata": {},
   "outputs": [],
   "source": [
    "fortune500_df.rename(columns={\n",
    "    \"Fortune  Rank (2018)\":\"fortune_rank\",\n",
    "    \"Company Name\":\"name\",\n",
    "    \"Ticker Symbol\":\"ticker\",\n",
    "    \"Fortune Rank (2017)\":\"rank_2017\",\n",
    "    \"Revenues\":\"revenues\",\n",
    "    \"Revenues change\":\"revenue_change\",\n",
    "    \"Profits\":\"profits\",\n",
    "    \"Profit Change\":\"profit_change\",\n",
    "    \"Assets\":\"assets\",\n",
    "    \"Market Value\":\"market_value\",\n",
    "    \"Employee Count\":\"num_employees\",\n",
    "    \"CEO Name\":\"ceo_name\",\n",
    "    \"CEO Title\":\"ceo_title\",\n",
    "    \"Sector\":\"sector\",\n",
    "    \"HQ Location\":\"hq_location\",\n",
    "    \"Website URL\":\"url\",\n",
    "    \"Years on Fortune List\":\"years_on_fortune_list\",\n",
    "    \"Fortune URL\":\"fortune_url\"\n",
    "}, inplace=True)"
   ]
  },
  {
   "cell_type": "markdown",
   "metadata": {},
   "source": [
    "## Push DataFrame to sqlite and check to see if written."
   ]
  },
  {
   "cell_type": "code",
   "execution_count": 37,
   "metadata": {},
   "outputs": [],
   "source": [
    "fortune500_df.set_index(\"fortune_rank\")\n",
    "fortune500_df.to_sql(\"fortune500_companies\", conn, if_exists=\"replace\")"
   ]
  },
  {
   "cell_type": "code",
   "execution_count": 38,
   "metadata": {},
   "outputs": [],
   "source": [
    "f500 = pd.read_sql_query(\"select * from fortune500_companies\", conn)"
   ]
  },
  {
   "cell_type": "code",
   "execution_count": 39,
   "metadata": {},
   "outputs": [
    {
     "name": "stdout",
     "output_type": "stream",
     "text": [
      "<class 'pandas.core.frame.DataFrame'>\n",
      "RangeIndex: 505 entries, 0 to 504\n",
      "Data columns (total 20 columns):\n",
      "index                    505 non-null int64\n",
      "fortune_rank             500 non-null float64\n",
      "name                     502 non-null object\n",
      "ticker                   471 non-null object\n",
      "rank_2017                495 non-null float64\n",
      "revenues                 500 non-null object\n",
      "revenue_change           497 non-null object\n",
      "profits                  500 non-null object\n",
      "profit_change            436 non-null object\n",
      "assets                   500 non-null object\n",
      "market_value             472 non-null object\n",
      "num_employees            500 non-null object\n",
      "ceo_name                 500 non-null object\n",
      "ceo_title                500 non-null object\n",
      "sector                   500 non-null object\n",
      "Industry                 500 non-null object\n",
      "hq_location              500 non-null object\n",
      "url                      500 non-null object\n",
      "years_on_fortune_list    500 non-null float64\n",
      "fortune_url              500 non-null object\n",
      "dtypes: float64(3), int64(1), object(16)\n",
      "memory usage: 79.0+ KB\n"
     ]
    }
   ],
   "source": [
    "f500.info()"
   ]
  },
  {
   "cell_type": "code",
   "execution_count": null,
   "metadata": {},
   "outputs": [],
   "source": []
  }
 ],
 "metadata": {
  "kernelspec": {
   "display_name": "Python 3",
   "language": "python",
   "name": "python3"
  },
  "language_info": {
   "codemirror_mode": {
    "name": "ipython",
    "version": 3
   },
   "file_extension": ".py",
   "mimetype": "text/x-python",
   "name": "python",
   "nbconvert_exporter": "python",
   "pygments_lexer": "ipython3",
   "version": "3.6.6"
  }
 },
 "nbformat": 4,
 "nbformat_minor": 2
}
